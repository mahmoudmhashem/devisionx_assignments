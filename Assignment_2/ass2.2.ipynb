{
 "cells": [
  {
   "cell_type": "code",
   "execution_count": 1,
   "metadata": {},
   "outputs": [],
   "source": [
    "from torchvision.datasets import MNIST\n",
    "from torchvision.transforms import ToTensor\n",
    "from torch.utils.data import DataLoader\n",
    "\n",
    "import matplotlib.pyplot as plt\n",
    "\n",
    "import torch\n",
    "from tqdm import tqdm\n",
    "\n",
    "import numpy as np"
   ]
  },
  {
   "cell_type": "code",
   "execution_count": 2,
   "metadata": {},
   "outputs": [],
   "source": [
    "trainset = MNIST('~/.pytorch/MNIST_data/', download=True, train=True, transform=ToTensor()) # Download and load the train data\n",
    "testset = MNIST('~/.pytorch/MNIST_data/', download=True, train=False, transform=ToTensor()) # Download and load the test data\n",
    "\n",
    "trainloader = DataLoader(trainset, batch_size=1, shuffle=True)\n",
    "testloader = DataLoader(testset, batch_size=1, shuffle=True)"
   ]
  },
  {
   "cell_type": "code",
   "execution_count": 3,
   "metadata": {},
   "outputs": [
    {
     "data": {
      "text/plain": [
       "(torch.Size([1, 1, 28, 28]), torch.Size([1]))"
      ]
     },
     "execution_count": 3,
     "metadata": {},
     "output_type": "execute_result"
    },
    {
     "data": {
      "image/png": "[encoded data removed]",
      "text/plain": [
       "<Figure size 640x480 with 1 Axes>"
      ]
     },
     "metadata": {},
     "output_type": "display_data"
    }
   ],
   "source": [
    "images, dense = next(iter(trainloader))\n",
    "plt.imshow(images[0].permute(1, 2, 0), cmap=\"Greys\")\n",
    "images.shape, dense.shape"
   ]
  },
  {
   "cell_type": "code",
   "execution_count": 4,
   "metadata": {},
   "outputs": [],
   "source": [
    "class DNN:\n",
    "    def __init__(self, sizes=[784, 128, 64, 10], epochs=10, lr=0.001) -> None:\n",
    "        self.sizes = sizes\n",
    "        self.epochs = epochs\n",
    "        self.lr = lr\n",
    "        \n",
    "        input_layer = sizes[0]\n",
    "        hidden_1 = sizes[1]\n",
    "        hidden_2 = sizes[2]\n",
    "        output_layer = sizes[3]\n",
    "\n",
    "        self.params = {\n",
    "            \"w1\": torch.randn(input_layer, hidden_1),\n",
    "            \"w2\": torch.randn(hidden_1, hidden_2),\n",
    "            \"w3\": torch.randn(hidden_2, output_layer),\n",
    "        }\n",
    "\n",
    "    def sigmoid(self, z, derivative=False):\n",
    "        if derivative:\n",
    "            sig = self.sigmoid(z)\n",
    "            return sig*(1-sig)\n",
    "        return 1/(1+torch.exp(-z))\n",
    "    \n",
    "    def softmax(self, x:torch.Tensor, derivative=False):\n",
    "        exps = torch.exp(x)\n",
    "        if derivative:\n",
    "            soft = self.softmax(x)\n",
    "            return soft*(1-soft)\n",
    "        return exps/exps.sum(axis=1).reshape(-1, 1)\n",
    "\n",
    "    def forward_pass(self, x_train:torch.Tensor):\n",
    "        params = self.params\n",
    "\n",
    "        params['A0'] = x_train # MxN0\n",
    "\n",
    "        # input layer to hidden_1\n",
    "        params['Z1'] = params['A0']@params['w1'] # MxN0, N0xN1 => MxN1 \n",
    "        params['A1'] = self.sigmoid(params['Z1']) # MxN1\n",
    "\n",
    "        # hidden_1 to hidden_2\n",
    "        params['Z2'] = params['A1']@params['w2'] # MxN1, N1xN2 => MxN2\n",
    "        params['A2'] = self.sigmoid(params['Z2']) # MxN2\n",
    "\n",
    "        # input layer to hidden_1\n",
    "        params['Z3'] = params['A2']@params['w3'] # MxN2, N2xN3 => MxN3\n",
    "        params['A3'] = self.softmax(params['Z3']) # MxN3\n",
    "\n",
    "        return params['A3']\n",
    "\n",
    "\n",
    "    def backward_pass(self, y_train, output):\n",
    "        params = self.params\n",
    "\n",
    "        gradients = {}\n",
    "\n",
    "        # calculate w3 update\n",
    "        CA3 = 2*(output-y_train) # MxN3\n",
    "\n",
    "        A3Z3 = self.softmax(params['Z3'], derivative=True) # MxN3\n",
    "        Z3W3 = params['A2']  # MxN2\n",
    "\n",
    "        CZ3 = CA3 * A3Z3 # MxN3\n",
    "        # CW3 = np.outer(Z3W3, CZ3) \n",
    "        CW3 = Z3W3[:, :, np.newaxis] * CZ3[:, np.newaxis, :] # MxN2x1, Mx1xN3 => MxN2xN3\n",
    "\n",
    "\n",
    "        # calculate w2 update\n",
    "        Z3A2 = params['w3'] # N2xN3\n",
    "        CA2 = CZ3 @ Z3A2.T # MxN3, N3xN2 => MxN2\n",
    "\n",
    "        A2Z2 = self.sigmoid(params['Z2'], derivative=True) # MxN2\n",
    "        Z2W2 = params['A1'] # MxN1\n",
    "\n",
    "        CZ2 = CA2 * A2Z2 # MxN2, MxN2 => MxN2\n",
    "        # CW2 =  np.outer(Z2W2, CZ2)\n",
    "        CW2 = Z2W2[:, :, np.newaxis] * CZ2[:, np.newaxis, :] # MxN1x1, Mx1xN2 => MxN2xN3\n",
    "\n",
    "        # calculate w3 update\n",
    "        Z2A1 = params['w2'] # N1xN2\n",
    "        CA1 = CZ2 @ Z2A1.T # MxN2, N2xN1 => MxN1\n",
    "\n",
    "        A1Z1 = self.sigmoid(params['Z1'], derivative=True) # MxN1\n",
    "        Z1W1 = params['A0'] # MxN0\n",
    "\n",
    "        CZ1 = CA1 * A1Z1 # MxN1, MxN1 => MxN1\n",
    "        # CW1 =  np.outer(Z1W1, CZ1)\n",
    "        CW1 = Z1W1[:, :, np.newaxis] * CZ1[:, np.newaxis, :] # MxN0x1, Mx1xN1 => MxN0xN1\n",
    "\n",
    "        gradients['w3'] = CW3.sum(axis=0)\n",
    "        gradients['w2'] = CW2.sum(axis=0)\n",
    "        gradients['w1'] = CW1.sum(axis=0)\n",
    "\n",
    "        return gradients\n",
    "    \n",
    "    def update_weights(self, gradients:dict):\n",
    "        for weight, grad in gradients.items():\n",
    "            self.params[weight] = self.params[weight] - self.lr*grad\n",
    "                                    # N0xN1 - MxN0xN1\n",
    "\n",
    "    def compute_accuracy(self, loader):\n",
    "        data_length = 0\n",
    "        true_preds = 0\n",
    "        for data, targets in loader:\n",
    "            outputs = self.forward_pass(data)\n",
    "            \n",
    "            data_length+=data.shape(0)\n",
    "            true_preds += (torch.argmax(outputs, axis=1) == torch.argmax(targets, axis=1))\n",
    "\n",
    "    def dense2sparse(self, dense, n_classes):\n",
    "        sparse = torch.zeros((len(dense), n_classes))\n",
    "        sparse[range(len(dense)), dense] = 1\n",
    "        return sparse\n",
    "\n",
    "    def train(self, trainloader):\n",
    "        for e in range(self.epochs):\n",
    "            data_length = 0\n",
    "            true_preds = 0\n",
    "            progress_bar = tqdm(trainloader, desc=f\"Epoch {e+1}/{self.epochs}\")\n",
    "            for data, targets in progress_bar:\n",
    "                data = data.flatten(start_dim=1)\n",
    "                targets = self.dense2sparse(targets, self.sizes[-1])\n",
    "\n",
    "                outputs = self.forward_pass(data)\n",
    "                gradients = self.backward_pass(targets, outputs)\n",
    "                self.update_weights(gradients)\n",
    "\n",
    "                data_length+=data.shape[0]\n",
    "                true_preds += (torch.argmax(outputs, axis=1) == torch.argmax(targets, axis=1)).sum()\n",
    "                train_acc = (true_preds/data_length).item()\n",
    "                progress_bar.set_postfix(train_acc=train_acc)"
   ]
  },
  {
   "cell_type": "code",
   "execution_count": 5,
   "metadata": {},
   "outputs": [
    {
     "name": "stderr",
     "output_type": "stream",
     "text": [
      "Epoch 1/10: 100%|██████████| 60000/60000 [7:29:32<00:00,  2.22it/s, train_acc=0.224]      \n",
      "Epoch 2/10: 100%|██████████| 60000/60000 [05:48<00:00, 172.38it/s, train_acc=0.438]\n",
      "Epoch 3/10: 100%|██████████| 60000/60000 [08:25<00:00, 118.62it/s, train_acc=0.569]\n",
      "Epoch 4/10: 100%|██████████| 60000/60000 [08:11<00:00, 122.01it/s, train_acc=0.642]\n",
      "Epoch 5/10: 100%|██████████| 60000/60000 [08:29<00:00, 117.81it/s, train_acc=0.687]\n",
      "Epoch 6/10: 100%|██████████| 60000/60000 [08:54<00:00, 112.21it/s, train_acc=0.721]\n",
      "Epoch 7/10: 100%|██████████| 60000/60000 [08:29<00:00, 117.66it/s, train_acc=0.746]\n",
      "Epoch 8/10: 100%|██████████| 60000/60000 [08:47<00:00, 113.64it/s, train_acc=0.765]\n",
      "Epoch 9/10: 100%|██████████| 60000/60000 [10:00<00:00, 99.90it/s, train_acc=0.78]  \n",
      "Epoch 10/10: 100%|██████████| 60000/60000 [11:17<00:00, 88.50it/s, train_acc=0.792] \n"
     ]
    }
   ],
   "source": [
    "dnn = DNN()\n",
    "dnn.train(trainloader)"
   ]
  }
 ],
 "metadata": {
  "kernelspec": {
   "display_name": "main",
   "language": "python",
   "name": "python3"
  },
  "language_info": {
   "codemirror_mode": {
    "name": "ipython",
    "version": 3
   },
   "file_extension": ".py",
   "mimetype": "text/x-python",
   "name": "python",
   "nbconvert_exporter": "python",
   "pygments_lexer": "ipython3",
   "version": "3.9.16"
  },
  "orig_nbformat": 4
 },
 "nbformat": 4,
 "nbformat_minor": 2
}
