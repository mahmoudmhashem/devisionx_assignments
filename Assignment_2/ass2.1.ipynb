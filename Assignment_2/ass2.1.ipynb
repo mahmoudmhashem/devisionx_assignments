{
 "cells": [
  {
   "cell_type": "code",
   "execution_count": 74,
   "metadata": {},
   "outputs": [],
   "source": [
    "import numpy as np\n",
    "from sklearn.datasets import make_regression\n",
    "from sklearn.model_selection import train_test_split\n",
    "from sklearn.preprocessing import StandardScaler\n",
    "from sklearn.metrics import r2_score\n",
    "from sklearn.linear_model import SGDRegressor"
   ]
  },
  {
   "cell_type": "code",
   "execution_count": 124,
   "metadata": {
    "notebookRunGroups": {
     "groupValue": ""
    }
   },
   "outputs": [],
   "source": [
    "import numpy as np\n",
    "class SGD_Regressor:\n",
    "    m, n = 0, 0\n",
    "    theta = 0\n",
    "    yHat = 0\n",
    "    grad = 0\n",
    "    X = 0\n",
    "    y = 0\n",
    "    alpha = 0\n",
    "    max_iter = 0\n",
    "\n",
    "    def __init__(self, learning_rate=0.01, max_iter= 1000):\n",
    "        self.alpha = learning_rate\n",
    "        self.max_iter = max_iter\n",
    "\n",
    "    def fit(self, X, y):\n",
    "        self.X = np.array(X)\n",
    "        self.y = np.array(y).reshape(-1, 1)\n",
    "\n",
    "        self.m, self.n = self.X.shape\n",
    "        self.X = np.append(self.X, np.ones((self.m,1)), axis=1)\n",
    "        self.theta = np.zeros((self.n+1, 1))\n",
    "        self.yHat = self.__calc_yHat(self.X)\n",
    "        self.__calc_theta()\n",
    "    \n",
    "    def __calc_theta(self):\n",
    "        for _ in range(self.max_iter):\n",
    "            self.__calc_grad()\n",
    "            new_theta = self.theta + self.alpha * self.grad\n",
    "            if self.__converged(new_theta):\n",
    "                break\n",
    "            self.theta = new_theta\n",
    "        else:\n",
    "            print(\"doesn't converge\")\n",
    "\n",
    "\n",
    "    def __converged(self, new_theta):\n",
    "        condition1 = abs(self.grad) <= 10**-2\n",
    "        condition2 = abs(self.theta - new_theta) <= 10**-6\n",
    "        return condition1.all() or condition2.all()\n",
    "\n",
    "    def __calc_yHat(self, X:np.ndarray):\n",
    "        yHat =  X @ self.theta\n",
    "        return yHat\n",
    "    \n",
    "    def __calc_grad(self):\n",
    "        self.yHat = self.__calc_yHat(self.X)\n",
    "        self.grad = self.X.T @ (self.y - self.yHat)\n",
    "    \n",
    "    def predict(self, X:np.ndarray):\n",
    "        m = X.shape[0]\n",
    "        X = np.append(X, np.ones((m,1)), axis=1)\n",
    "        yHat = self.__calc_yHat(X)\n",
    "        return yHat"
   ]
  },
  {
   "cell_type": "code",
   "execution_count": 125,
   "metadata": {},
   "outputs": [
    {
     "data": {
      "text/plain": [
       "((1500, 10), (1500,))"
      ]
     },
     "execution_count": 125,
     "metadata": {},
     "output_type": "execute_result"
    }
   ],
   "source": [
    "X, y = make_regression(n_samples=1500, n_features=10, noise=1, random_state=42)\n",
    "X.shape, y.shape"
   ]
  },
  {
   "cell_type": "code",
   "execution_count": 126,
   "metadata": {},
   "outputs": [],
   "source": [
    "# split the data set into train and test\n",
    "X_train, X_test, y_train, y_test = train_test_split(X, y, test_size=0.3, random_state=0)\n",
    "scaler = StandardScaler()\n",
    "X_train = scaler.fit_transform(X_train)\n",
    "X_test = scaler.transform(X_test)"
   ]
  },
  {
   "cell_type": "code",
   "execution_count": 135,
   "metadata": {
    "notebookRunGroups": {
     "groupValue": ""
    }
   },
   "outputs": [
    {
     "name": "stdout",
     "output_type": "stream",
     "text": [
      "my-r2_score: 0.9999639157537062\n",
      "sk-r2_score: 0.9999639034550705\n"
     ]
    }
   ],
   "source": [
    "my_SGD = SGD_Regressor(learning_rate=0.001)\n",
    "my_SGD.fit(X_train, y_train)\n",
    "my_SGD_y_train_preds = my_SGD.predict(X_train)\n",
    "\n",
    "sk_SGD = SGDRegressor()\n",
    "sk_SGD.fit(X_train, y_train)\n",
    "sk_SGD_y_train_preds = sk_SGD.predict(X_train)\n",
    "\n",
    "print(f\"my-r2_score: {r2_score(y_train, my_SGD_y_train_preds)}\")\n",
    "print(f\"sk-r2_score: {r2_score(y_train, sk_SGD_y_train_preds)}\")"
   ]
  },
  {
   "cell_type": "code",
   "execution_count": null,
   "metadata": {},
   "outputs": [],
   "source": []
  },
  {
   "cell_type": "code",
   "execution_count": null,
   "metadata": {},
   "outputs": [],
   "source": []
  }
 ],
 "metadata": {
  "kernelspec": {
   "display_name": "main",
   "language": "python",
   "name": "python3"
  },
  "language_info": {
   "codemirror_mode": {
    "name": "ipython",
    "version": 3
   },
   "file_extension": ".py",
   "mimetype": "text/x-python",
   "name": "python",
   "nbconvert_exporter": "python",
   "pygments_lexer": "ipython3",
   "version": "3.9.16"
  },
  "orig_nbformat": 4
 },
 "nbformat": 4,
 "nbformat_minor": 2
}
